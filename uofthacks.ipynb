{
  "nbformat": 4,
  "nbformat_minor": 0,
  "metadata": {
    "colab": {
      "provenance": []
    },
    "kernelspec": {
      "name": "python3",
      "display_name": "Python 3"
    },
    "language_info": {
      "name": "python"
    }
  },
  "cells": [
    {
      "cell_type": "code",
      "execution_count": 2,
      "metadata": {
        "colab": {
          "base_uri": "https://localhost:8080/"
        },
        "id": "DBP91K5VqsJx",
        "outputId": "f98bcd23-9e17-4feb-fb22-e01b0a988a62"
      },
      "outputs": [
        {
          "output_type": "stream",
          "name": "stdout",
          "text": [
            "Looking in indexes: https://pypi.org/simple, https://us-python.pkg.dev/colab-wheels/public/simple/\n",
            "Collecting cohere==2.2.5\n",
            "  Downloading cohere-2.2.5.tar.gz (9.3 kB)\n",
            "  Preparing metadata (setup.py) ... \u001b[?25l\u001b[?25hdone\n",
            "Requirement already satisfied: requests in /usr/local/lib/python3.8/dist-packages (from cohere==2.2.5) (2.25.1)\n",
            "Requirement already satisfied: urllib3<1.27,>=1.21.1 in /usr/local/lib/python3.8/dist-packages (from requests->cohere==2.2.5) (1.26.14)\n",
            "Requirement already satisfied: idna<3,>=2.5 in /usr/local/lib/python3.8/dist-packages (from requests->cohere==2.2.5) (2.10)\n",
            "Requirement already satisfied: chardet<5,>=3.0.2 in /usr/local/lib/python3.8/dist-packages (from requests->cohere==2.2.5) (4.0.0)\n",
            "Requirement already satisfied: certifi>=2017.4.17 in /usr/local/lib/python3.8/dist-packages (from requests->cohere==2.2.5) (2022.12.7)\n",
            "Building wheels for collected packages: cohere\n",
            "  Building wheel for cohere (setup.py) ... \u001b[?25l\u001b[?25hdone\n",
            "  Created wheel for cohere: filename=cohere-2.2.5-cp38-cp38-linux_x86_64.whl size=10451 sha256=ecbc846d00d9e22dc948c2e9395a40c49680430c789c67ecaccce2938eb666e8\n",
            "  Stored in directory: /root/.cache/pip/wheels/35/b6/f9/311774273a82bbf34d4a0d1dcbbb7248a1ced355f05fa7742e\n",
            "Successfully built cohere\n",
            "Installing collected packages: cohere\n",
            "  Attempting uninstall: cohere\n",
            "    Found existing installation: cohere 3.1.8\n",
            "    Uninstalling cohere-3.1.8:\n",
            "      Successfully uninstalled cohere-3.1.8\n",
            "Successfully installed cohere-2.2.5\n"
          ]
        }
      ],
      "source": [
        "!pip install cohere==2.2.5"
      ]
    },
    {
      "cell_type": "code",
      "source": [
        "import cohere\n",
        "co = cohere.Client(\"j6LxAsA6YIKALgllTH9x5k0QXs1fOsamHlP185V3\")"
      ],
      "metadata": {
        "id": "7TmlPH3_vMmY"
      },
      "execution_count": 91,
      "outputs": []
    },
    {
      "cell_type": "code",
      "source": [
        "place = input(\"Where do you want to travel?\")\n",
        "days = input(\"How many days?\")\n",
        "activities = [\"Visit cultural landmarks and historic sites\", \n",
        "              \"Try a new adventure sport or activity, like paragliding or bungee jumping\", \n",
        "              \"Go shopping at traditional markets and shops\",\n",
        "              \"Try local cuisine and street food\",\n",
        "              \"Take a guided tour of the city or region\"]"
      ],
      "metadata": {
        "colab": {
          "base_uri": "https://localhost:8080/"
        },
        "id": "sAOqyE252_M-",
        "outputId": "7e404348-1aab-438d-fd0c-b8d16dc09ea5"
      },
      "execution_count": 99,
      "outputs": [
        {
          "name": "stdout",
          "output_type": "stream",
          "text": [
            "Where do you want to travel?Vancouver\n",
            "How many days?5\n"
          ]
        }
      ]
    },
    {
      "cell_type": "code",
      "source": [
        "prompt = f\"\"\"\n",
        "This program will generate a travel itinerary given a location, days, and activities.\n",
        "--\n",
        "Location: Australia\n",
        "Days: 10\n",
        "Activities: Visit cultural landmarks and historic sites, Try a new adventure sport or activity, like paragliding or bungee jumping, Go shopping at traditional markets and shops, Try local cuisine and street food, Take a guided tour of the city or region.\n",
        "Itinerary: \n",
        "\n",
        "Day 1:\n",
        "* Arrive in Sydney and check into your hotel.\n",
        "* Visit the iconic Sydney Opera House and take a guided tour of the building.\n",
        "* Walk around The Rocks, a historic neighborhood with cobbled streets and 19th-century buildings.\n",
        "Day 2:\n",
        "* Take a guided tour of the Sydney Harbour Bridge and try bungee jumping or bridge climbing.\n",
        "* Visit the Australian Museum to learn about the country's Indigenous culture and history.\n",
        "* Try some local street food in Darling Harbour.\n",
        "Day 3:\n",
        "* Take a day trip to the Blue Mountains and go paragliding or hang gliding.\n",
        "* Visit the Three Sisters rock formation and take a guided tour of the area.\n",
        "* Try some local cuisine at a restaurant in Katoomba.\n",
        "Day 4:\n",
        "* Take a train to Melbourne and check into your hotel.\n",
        "* Visit the Melbourne Museum to learn about the city's history and culture.\n",
        "* Go shopping at the Queen Victoria Market, a large traditional market with a wide range of products.\n",
        "Day 5:\n",
        "* Take a guided tour of the city and visit some of Melbourne's famous street art.\n",
        "* Try some local street food in the laneways.\n",
        "* Go paragliding or hang gliding in the Yarra Valley.\n",
        "Day 6:\n",
        "* Take a train to Brisbane and check into your hotel.\n",
        "* Visit the Queensland Museum and learn about the state's history and culture.\n",
        "* Go shopping at the South Bank Lifestyle Market, a traditional market with a wide range of products.\n",
        "Day 7:\n",
        "* Take a day trip to Moreton Island and try sandboarding or snorkeling.\n",
        "* Visit the Tangalooma Wrecks and take a guided tour of the area.\n",
        "* Try some local seafood at a restaurant in Tangalooma.\n",
        "Day 8:\n",
        "* Take a flight to Perth and check into your hotel.\n",
        "* Visit the Western Australian Museum and learn about the state's history and culture.\n",
        "* Go shopping at the Fremantle Markets, a traditional market with a wide range of products.\n",
        "Day 9:\n",
        "* Take a day trip to Rottnest Island and try snorkeling or scuba diving.\n",
        "* Visit the Wadjemup Lighthouse and take a guided tour of the island.\n",
        "* Try some local seafood at a restaurant in Rottnest Island.\n",
        "Day 10:\n",
        "* Take a flight back home.\n",
        "\n",
        "Note: This itinerary is a rough guide and can be adjusted to suit your interests and budget. It is always recommended to check the opening hours of the places you want to visit, and book tickets in advance if possible to save time.\n",
        "--\n",
        "Location: South Korea\n",
        "Days: 7\n",
        "Activities: Budget activities\n",
        "Itinerary: \n",
        "\n",
        "Day 1:\n",
        "* Arrive in Seoul\n",
        "* Check into a hotel in the city center\n",
        "* Visit Gyeongbokgung Palace and the nearby National Museum of Korea\n",
        "* Explore the bustling shopping and food district of Myeong-dong\n",
        "* Try traditional Korean BBQ for dinner\n",
        "Day 2:\n",
        "* Take the subway to the historic neighborhood of Bukchon Hanok Village\n",
        "* Visit the Changdeokgung Palace complex and its Secret Garden\n",
        "* Take a stroll through Insadong, known for its traditional teahouses and art galleries\n",
        "* Enjoy a performance of traditional Korean music and dance at the National Theater of Korea\n",
        "Day 3:\n",
        "* Take a day trip to the city of Suwon to visit the UNESCO World Heritage Site of Hwaseong Fortress\n",
        "* Explore the Suwon Hwaseong Museum and the Suwon Traditional Market\n",
        "* Return to Seoul and experience the nightlife in Hongdae, known for its bars and clubs\n",
        "Day 4:\n",
        "* Take a train to the city of Busan\n",
        "* Visit the famous Haedong Yonggung Temple, located on the coast\n",
        "* Explore the bustling streets of the Jagalchi Fish Market\n",
        "* Visit the Busan Museum and the Busan Tower for a panoramic view of the city\n",
        "Day 5:\n",
        "* Take a trip to the scenic Gamcheon Culture Village\n",
        "* Visit the Songdo Beach and the Songdo Skywalk for ocean views\n",
        "* Explore the Taejongdae Resort Park and take a cable car ride for more coastal views\n",
        "* Return to Busan for dinner and enjoy some of the city's famous seafood\n",
        "Day 6:\n",
        "* Return to Seoul\n",
        "* Visit the famous Gyeongbokgung Palace and the nearby National Museum of Korea\n",
        "* Visit the Namsan Tower, also known as the Seoul Tower, for a panoramic view of the city\n",
        "* Enjoy a farewell dinner of traditional Korean cuisine\n",
        "Day 7:\n",
        "* Depart from Seoul\n",
        "\n",
        "Note: This itinerary is a rough guide and can be adjusted to suit your interests and budget. It is always recommended to check the opening hours of the places you want to visit, and book tickets in advance if possible to save time.\n",
        "--\n",
        "Location: {place}\n",
        "Days: {days}\n",
        "Activities: \"\"\"\n",
        "\n",
        "for item in activities:\n",
        "  prompt += item + \", \"\n",
        "\n",
        "prompt = prompt[0:-2]\n",
        "prompt += \"\\nItinerary\\n\"\n",
        "\n",
        "response = co.generate(  \n",
        "    model='command-xlarge-nightly',  \n",
        "    prompt = prompt,  \n",
        "    max_tokens=800,  \n",
        "    temperature=0.6,\n",
        "    stop_sequences=[\"--\"])\n",
        "\n",
        "itinerary = response.generations[0].text\n",
        "print(itinerary)"
      ],
      "metadata": {
        "colab": {
          "base_uri": "https://localhost:8080/"
        },
        "id": "_GAD4jM4NHWJ",
        "outputId": "4e019f43-2da5-4fb3-fce2-6e0b393036dc"
      },
      "execution_count": 100,
      "outputs": [
        {
          "output_type": "stream",
          "name": "stdout",
          "text": [
            "\n",
            "Day 1:\n",
            "* Arrive in Vancouver and check into your hotel.\n",
            "* Visit the iconic Stanley Park and take a guided tour of the area.\n",
            "* Try some local street food at the Vancouver Farmers Market.\n",
            "* Take a walk along the seawall and enjoy the views of the city and the North Shore.\n",
            "Day 2:\n",
            "* Take a guided tour of the city and visit some of Vancouver's famous street art.\n",
            "* Try some local street food in the laneways.\n",
            "* Go paragliding or bungee jumping in the surrounding mountains.\n",
            "Day 3:\n",
            "* Take a train to the city of Victoria and check into your hotel.\n",
            "* Visit the Butchart Gardens, a UNESCO World Heritage Site, and take a guided tour of the area.\n",
            "* Explore the city of Victoria and visit some of its famous landmarks, such as the Parliament Buildings and the Empress Hotel.\n",
            "* Enjoy some local cuisine at a restaurant in Victoria.\n",
            "Day 4:\n",
            "* Take a ferry to the nearby Gulf Islands and enjoy a day of hiking and exploring.\n",
            "* Visit the local markets and try some of the region's famous seafood.\n",
            "* Return to Vancouver and enjoy a farewell dinner at a restaurant in the city.\n",
            "Day 5:\n",
            "* Depart from Vancouver\n"
          ]
        }
      ]
    },
    {
      "cell_type": "code",
      "source": [
        "prompt = f\"\"\"\n",
        "This program will generate some accomodation options given a location.\n",
        "--\n",
        "Location: Australia\n",
        "Accomodation: \n",
        "\n",
        "Budget-friendly:\n",
        "\n",
        "Bounce Hostel Sydney - Sydney, New South Wales\n",
        "Base Backpackers Brisbane - Brisbane, Queensland\n",
        "The Capsule Hotel Melbourne - Melbourne, Victoria\n",
        "Gilligan's Backpackers Hotel & Resort - Cairns, Queensland\n",
        "The Pickled Parrot Backpackers - Hobart, Tasmania\n",
        "\n",
        "Regular/Luxury:\n",
        "\n",
        "The Langham, Sydney - Sydney, New South Wales\n",
        "The Ritz-Carlton, Perth - Perth, Western Australia\n",
        "The InterContinental Adelaide - Adelaide, South Australia\n",
        "The Park Hyatt Melbourne - Melbourne, Victoria\n",
        "The Hilton Surfers Paradise Hotel - Gold Coast, Queensland\n",
        "\n",
        "Please note that these options may change based on the travel date and availability.\n",
        "\n",
        "--\n",
        "Location: South Korea\n",
        "Accomodation: \n",
        "\n",
        "Budget-friendly:\n",
        "\n",
        "Capsule Inn Myeongdong - Seoul\n",
        "Hostel The Little Box - Busan\n",
        "Seoul Capsule Guesthouse - Seoul\n",
        "Arario Hostel - Jeju\n",
        "Guesthouse Seoul - Seoul\n",
        "\n",
        "Regular/Luxury:\n",
        "\n",
        "InterContinental Seoul COEX - Seoul\n",
        "The Shilla Seoul - Seoul\n",
        "JW Marriott Hotel Seoul - Seoul\n",
        "Lotte City Hotel Myeongdong - Seoul\n",
        "Paradise City - Incheon\n",
        "\n",
        "Please note that these options may change based on the travel date and availability.\n",
        "\n",
        "--\n",
        "Location: {place}\n",
        "Accomodation: \n",
        "\"\"\"\n",
        "\n",
        "response = co.generate(  \n",
        "    model='command-xlarge-nightly',  \n",
        "    prompt = prompt,  \n",
        "    max_tokens=1000,  \n",
        "    temperature=0.6,\n",
        "    stop_sequences=[\"--\"])\n",
        "\n",
        "accomodation = response.generations[0].text\n",
        "print(accomodation)"
      ],
      "metadata": {
        "colab": {
          "base_uri": "https://localhost:8080/"
        },
        "id": "yZ3TY42cc6L9",
        "outputId": "5cedcafc-6b62-4fbb-d844-ae07ccdefe3a"
      },
      "execution_count": 94,
      "outputs": [
        {
          "output_type": "stream",
          "name": "stdout",
          "text": [
            "\n",
            "Budget-friendly:\n",
            "\n",
            "Samesun Backpackers Hostel - Vancouver\n",
            "The Pender Hotel - Vancouver\n",
            "The Met Hotel - Vancouver\n",
            "The Four Seasons Hotel - Vancouver\n",
            "\n",
            "Regular/Luxury:\n",
            "\n",
            "The Fairmont Hotel Vancouver - Vancouver\n",
            "The Westin Bayshore - Vancouver\n",
            "The Renaissance Hotel - Vancouver\n",
            "The Trump International Hotel & Tower - Vancouver\n",
            "\n",
            "Please note that these options may change based on the travel date and availability.\n"
          ]
        }
      ]
    }
  ]
}